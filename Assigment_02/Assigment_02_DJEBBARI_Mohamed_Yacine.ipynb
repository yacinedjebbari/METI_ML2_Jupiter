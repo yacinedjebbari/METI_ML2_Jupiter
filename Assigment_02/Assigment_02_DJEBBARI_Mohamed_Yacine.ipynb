{
 "cells": [
  {
   "cell_type": "markdown",
   "id": "0e1e7931",
   "metadata": {},
   "source": [
    "## 1). Importing Libraries"
   ]
  },
  {
   "cell_type": "code",
   "execution_count": 1,
   "id": "be6ca0b6",
   "metadata": {},
   "outputs": [],
   "source": [
    "import numpy as np\n",
    "import pandas as pd\n",
    "import matplotlib.pyplot as plt\n",
    "from sklearn.preprocessing import MinMaxScaler\n",
    "from sklearn.model_selection import train_test_split\n",
    "from sklearn.linear_model import LinearRegression\n",
    "from sklearn.preprocessing import PolynomialFeatures\n",
    "from sklearn.metrics import mean_squared_error, mean_absolute_error, r2_score\n",
    "from sklearn.preprocessing import LabelEncoder\n",
    "import seaborn as sns"
   ]
  },
  {
   "cell_type": "markdown",
   "id": "4c719549",
   "metadata": {},
   "source": [
    "## 2).Loading DataSet"
   ]
  },
  {
   "cell_type": "code",
   "execution_count": 2,
   "id": "63174153",
   "metadata": {},
   "outputs": [
    {
     "data": {
      "text/html": [
       "<div>\n",
       "<style scoped>\n",
       "    .dataframe tbody tr th:only-of-type {\n",
       "        vertical-align: middle;\n",
       "    }\n",
       "\n",
       "    .dataframe tbody tr th {\n",
       "        vertical-align: top;\n",
       "    }\n",
       "\n",
       "    .dataframe thead th {\n",
       "        text-align: right;\n",
       "    }\n",
       "</style>\n",
       "<table border=\"1\" class=\"dataframe\">\n",
       "  <thead>\n",
       "    <tr style=\"text-align: right;\">\n",
       "      <th></th>\n",
       "      <th>R&amp;D Spend</th>\n",
       "      <th>Administration</th>\n",
       "      <th>Marketing Spend</th>\n",
       "      <th>State</th>\n",
       "      <th>Profit</th>\n",
       "    </tr>\n",
       "  </thead>\n",
       "  <tbody>\n",
       "    <tr>\n",
       "      <th>0</th>\n",
       "      <td>165349.20</td>\n",
       "      <td>136897.80</td>\n",
       "      <td>471784.10</td>\n",
       "      <td>New York</td>\n",
       "      <td>192261.83</td>\n",
       "    </tr>\n",
       "    <tr>\n",
       "      <th>1</th>\n",
       "      <td>162597.70</td>\n",
       "      <td>151377.59</td>\n",
       "      <td>443898.53</td>\n",
       "      <td>California</td>\n",
       "      <td>191792.06</td>\n",
       "    </tr>\n",
       "    <tr>\n",
       "      <th>2</th>\n",
       "      <td>153441.51</td>\n",
       "      <td>101145.55</td>\n",
       "      <td>407934.54</td>\n",
       "      <td>Florida</td>\n",
       "      <td>191050.39</td>\n",
       "    </tr>\n",
       "    <tr>\n",
       "      <th>3</th>\n",
       "      <td>144372.41</td>\n",
       "      <td>118671.85</td>\n",
       "      <td>383199.62</td>\n",
       "      <td>New York</td>\n",
       "      <td>182901.99</td>\n",
       "    </tr>\n",
       "    <tr>\n",
       "      <th>4</th>\n",
       "      <td>142107.34</td>\n",
       "      <td>91391.77</td>\n",
       "      <td>366168.42</td>\n",
       "      <td>Florida</td>\n",
       "      <td>166187.94</td>\n",
       "    </tr>\n",
       "  </tbody>\n",
       "</table>\n",
       "</div>"
      ],
      "text/plain": [
       "   R&D Spend  Administration  Marketing Spend       State     Profit\n",
       "0  165349.20       136897.80        471784.10    New York  192261.83\n",
       "1  162597.70       151377.59        443898.53  California  191792.06\n",
       "2  153441.51       101145.55        407934.54     Florida  191050.39\n",
       "3  144372.41       118671.85        383199.62    New York  182901.99\n",
       "4  142107.34        91391.77        366168.42     Florida  166187.94"
      ]
     },
     "execution_count": 2,
     "metadata": {},
     "output_type": "execute_result"
    }
   ],
   "source": [
    "df= pd.read_csv(\"50_Startups.csv\")\n",
    "df.head(5)"
   ]
  },
  {
   "cell_type": "code",
   "execution_count": 3,
   "id": "6d044589",
   "metadata": {},
   "outputs": [
    {
     "data": {
      "text/plain": [
       "R&D Spend          0\n",
       "Administration     0\n",
       "Marketing Spend    0\n",
       "State              0\n",
       "Profit             0\n",
       "dtype: int64"
      ]
     },
     "execution_count": 3,
     "metadata": {},
     "output_type": "execute_result"
    }
   ],
   "source": [
    "df.isnull().sum()"
   ]
  },
  {
   "cell_type": "markdown",
   "id": "c6fc1d17",
   "metadata": {},
   "source": [
    "## 3)- Normalizing DataSet"
   ]
  },
  {
   "cell_type": "code",
   "execution_count": 4,
   "id": "866c1a1a",
   "metadata": {},
   "outputs": [
    {
     "data": {
      "text/html": [
       "<div>\n",
       "<style scoped>\n",
       "    .dataframe tbody tr th:only-of-type {\n",
       "        vertical-align: middle;\n",
       "    }\n",
       "\n",
       "    .dataframe tbody tr th {\n",
       "        vertical-align: top;\n",
       "    }\n",
       "\n",
       "    .dataframe thead th {\n",
       "        text-align: right;\n",
       "    }\n",
       "</style>\n",
       "<table border=\"1\" class=\"dataframe\">\n",
       "  <thead>\n",
       "    <tr style=\"text-align: right;\">\n",
       "      <th></th>\n",
       "      <th>R&amp;D Spend</th>\n",
       "      <th>Administration</th>\n",
       "      <th>Marketing Spend</th>\n",
       "      <th>State</th>\n",
       "      <th>Profit</th>\n",
       "    </tr>\n",
       "  </thead>\n",
       "  <tbody>\n",
       "    <tr>\n",
       "      <th>0</th>\n",
       "      <td>165349.20</td>\n",
       "      <td>136897.80</td>\n",
       "      <td>471784.10</td>\n",
       "      <td>2</td>\n",
       "      <td>192261.83</td>\n",
       "    </tr>\n",
       "    <tr>\n",
       "      <th>1</th>\n",
       "      <td>162597.70</td>\n",
       "      <td>151377.59</td>\n",
       "      <td>443898.53</td>\n",
       "      <td>0</td>\n",
       "      <td>191792.06</td>\n",
       "    </tr>\n",
       "    <tr>\n",
       "      <th>2</th>\n",
       "      <td>153441.51</td>\n",
       "      <td>101145.55</td>\n",
       "      <td>407934.54</td>\n",
       "      <td>1</td>\n",
       "      <td>191050.39</td>\n",
       "    </tr>\n",
       "    <tr>\n",
       "      <th>3</th>\n",
       "      <td>144372.41</td>\n",
       "      <td>118671.85</td>\n",
       "      <td>383199.62</td>\n",
       "      <td>2</td>\n",
       "      <td>182901.99</td>\n",
       "    </tr>\n",
       "    <tr>\n",
       "      <th>4</th>\n",
       "      <td>142107.34</td>\n",
       "      <td>91391.77</td>\n",
       "      <td>366168.42</td>\n",
       "      <td>1</td>\n",
       "      <td>166187.94</td>\n",
       "    </tr>\n",
       "  </tbody>\n",
       "</table>\n",
       "</div>"
      ],
      "text/plain": [
       "   R&D Spend  Administration  Marketing Spend  State     Profit\n",
       "0  165349.20       136897.80        471784.10      2  192261.83\n",
       "1  162597.70       151377.59        443898.53      0  191792.06\n",
       "2  153441.51       101145.55        407934.54      1  191050.39\n",
       "3  144372.41       118671.85        383199.62      2  182901.99\n",
       "4  142107.34        91391.77        366168.42      1  166187.94"
      ]
     },
     "execution_count": 4,
     "metadata": {},
     "output_type": "execute_result"
    }
   ],
   "source": [
    " le = LabelEncoder()\n",
    " df[\"State\"] = le.fit_transform(df[\"State\"])\n",
    "df.head()"
   ]
  },
  {
   "cell_type": "markdown",
   "id": "c34001ba",
   "metadata": {},
   "source": [
    "## 4). Spleting Datatset (Train & Test)"
   ]
  },
  {
   "cell_type": "code",
   "execution_count": 5,
   "id": "890f3174",
   "metadata": {},
   "outputs": [],
   "source": [
    "X= df[[\"R&D Spend\",\"Administration\",\"Marketing Spend\",\"State\"]]\n",
    "y= df[\"Profit\"]\n",
    "X_train, x_test, y_train, y_test = train_test_split(X, y, test_size=0.30, random_state=100)"
   ]
  },
  {
   "cell_type": "code",
   "execution_count": 6,
   "id": "54bc08a7",
   "metadata": {},
   "outputs": [
    {
     "data": {
      "text/plain": [
       "<AxesSubplot:xlabel='State', ylabel='Profit'>"
      ]
     },
     "execution_count": 6,
     "metadata": {},
     "output_type": "execute_result"
    },
    {
     "data": {
      "image/png": "[encoded data removed]",
      "text/plain": [
       "<Figure size 432x288 with 1 Axes>"
      ]
     },
     "metadata": {
      "needs_background": "light"
     },
     "output_type": "display_data"
    }
   ],
   "source": [
    "# df.corr()\n",
    "# fig, ax = plt.subplots(figsize=(15,10))\n",
    "# sns.heatmap(df.corr(),cmap=sns.diverging_palette(0, 230, 90, 60, as_cmap=True),linewidth=0.3, annot=True, fmt='.2f', )\n",
    "\n",
    "sns.scatterplot(x=\"State\", y=\"Profit\", data=df)"
   ]
  },
  {
   "cell_type": "markdown",
   "id": "b3a5b271",
   "metadata": {},
   "source": [
    "## 5).Creating Model "
   ]
  },
  {
   "cell_type": "markdown",
   "id": "03276529",
   "metadata": {},
   "source": [
    "### - Linear Model"
   ]
  },
  {
   "cell_type": "code",
   "execution_count": 7,
   "id": "9ea79c92",
   "metadata": {},
   "outputs": [
    {
     "data": {
      "text/html": [
       "<div>\n",
       "<style scoped>\n",
       "    .dataframe tbody tr th:only-of-type {\n",
       "        vertical-align: middle;\n",
       "    }\n",
       "\n",
       "    .dataframe tbody tr th {\n",
       "        vertical-align: top;\n",
       "    }\n",
       "\n",
       "    .dataframe thead th {\n",
       "        text-align: right;\n",
       "    }\n",
       "</style>\n",
       "<table border=\"1\" class=\"dataframe\">\n",
       "  <thead>\n",
       "    <tr style=\"text-align: right;\">\n",
       "      <th></th>\n",
       "      <th>Linear Model</th>\n",
       "    </tr>\n",
       "  </thead>\n",
       "  <tbody>\n",
       "    <tr>\n",
       "      <th>MSE</th>\n",
       "      <td>1.684360e+08</td>\n",
       "    </tr>\n",
       "    <tr>\n",
       "      <th>MAE</th>\n",
       "      <td>8.636597e+03</td>\n",
       "    </tr>\n",
       "    <tr>\n",
       "      <th>R2</th>\n",
       "      <td>9.104677e-01</td>\n",
       "    </tr>\n",
       "  </tbody>\n",
       "</table>\n",
       "</div>"
      ],
      "text/plain": [
       "     Linear Model\n",
       "MSE  1.684360e+08\n",
       "MAE  8.636597e+03\n",
       "R2   9.104677e-01"
      ]
     },
     "execution_count": 7,
     "metadata": {},
     "output_type": "execute_result"
    }
   ],
   "source": [
    "model = LinearRegression()\n",
    "model.fit(X_train, y_train)\n",
    "predictions = model.predict(x_test)\n",
    "\n",
    "eval_metrics = pd.DataFrame(data=[mean_squared_error(y_test, predictions),\n",
    "                                  mean_absolute_error(y_test, predictions),\n",
    "                                  r2_score(y_test, predictions)],\n",
    "                                  columns=[\"Linear Model\"], \n",
    "                                  index=[\"MSE\",\"MAE\",\"R2\"])\n",
    "eval_metrics"
   ]
  },
  {
   "cell_type": "markdown",
   "id": "a9dd786f",
   "metadata": {},
   "source": [
    "### - Polynomial Model"
   ]
  },
  {
   "cell_type": "code",
   "execution_count": 8,
   "id": "46edb8d7",
   "metadata": {},
   "outputs": [
    {
     "data": {
      "text/html": [
       "<div>\n",
       "<style scoped>\n",
       "    .dataframe tbody tr th:only-of-type {\n",
       "        vertical-align: middle;\n",
       "    }\n",
       "\n",
       "    .dataframe tbody tr th {\n",
       "        vertical-align: top;\n",
       "    }\n",
       "\n",
       "    .dataframe thead th {\n",
       "        text-align: right;\n",
       "    }\n",
       "</style>\n",
       "<table border=\"1\" class=\"dataframe\">\n",
       "  <thead>\n",
       "    <tr style=\"text-align: right;\">\n",
       "      <th></th>\n",
       "      <th>d=2</th>\n",
       "    </tr>\n",
       "  </thead>\n",
       "  <tbody>\n",
       "    <tr>\n",
       "      <th>MSE_d2</th>\n",
       "      <td>1.914739e+08</td>\n",
       "    </tr>\n",
       "    <tr>\n",
       "      <th>MAE_d2</th>\n",
       "      <td>1.143546e+04</td>\n",
       "    </tr>\n",
       "    <tr>\n",
       "      <th>R2_d2</th>\n",
       "      <td>8.982219e-01</td>\n",
       "    </tr>\n",
       "  </tbody>\n",
       "</table>\n",
       "</div>"
      ],
      "text/plain": [
       "                 d=2\n",
       "MSE_d2  1.914739e+08\n",
       "MAE_d2  1.143546e+04\n",
       "R2_d2   8.982219e-01"
      ]
     },
     "execution_count": 8,
     "metadata": {},
     "output_type": "execute_result"
    }
   ],
   "source": [
    "poly_ftr_d2 = PolynomialFeatures(degree = 2)\n",
    "\n",
    "X_train_d2 = poly_ftr_d2.fit_transform(X_train)\n",
    "X_test_d2 = poly_ftr_d2.fit_transform(x_test)\n",
    "\n",
    "poly_reg = LinearRegression()\n",
    "poly_reg.fit(X_train_d2, y_train)\n",
    "\n",
    "y_pred_d2 = poly_reg.predict(X_test_d2)\n",
    "MSE_d2 = mean_squared_error(y_test, y_pred_d2)\n",
    "MAE_d2 = mean_absolute_error(y_test, y_pred_d2)\n",
    "R2_d2 = r2_score(y_test, y_pred_d2)\n",
    "\n",
    "eval_metrics = pd.DataFrame(data=[MSE_d2 ,MAE_d2, R2_d2], columns=[\"d=2\"], index=[\"MSE_d2\",\"MAE_d2\",\"R2_d2\"])\n",
    "eval_metrics"
   ]
  },
  {
   "cell_type": "code",
   "execution_count": 9,
   "id": "8accc62a",
   "metadata": {},
   "outputs": [
    {
     "data": {
      "text/html": [
       "<div>\n",
       "<style scoped>\n",
       "    .dataframe tbody tr th:only-of-type {\n",
       "        vertical-align: middle;\n",
       "    }\n",
       "\n",
       "    .dataframe tbody tr th {\n",
       "        vertical-align: top;\n",
       "    }\n",
       "\n",
       "    .dataframe thead th {\n",
       "        text-align: right;\n",
       "    }\n",
       "</style>\n",
       "<table border=\"1\" class=\"dataframe\">\n",
       "  <thead>\n",
       "    <tr style=\"text-align: right;\">\n",
       "      <th></th>\n",
       "      <th>d=5</th>\n",
       "    </tr>\n",
       "  </thead>\n",
       "  <tbody>\n",
       "    <tr>\n",
       "      <th>MSE_d5</th>\n",
       "      <td>9.083582e+12</td>\n",
       "    </tr>\n",
       "    <tr>\n",
       "      <th>MAE_d5</th>\n",
       "      <td>9.629129e+05</td>\n",
       "    </tr>\n",
       "    <tr>\n",
       "      <th>R2_d5</th>\n",
       "      <td>-4.827387e+03</td>\n",
       "    </tr>\n",
       "  </tbody>\n",
       "</table>\n",
       "</div>"
      ],
      "text/plain": [
       "                 d=5\n",
       "MSE_d5  9.083582e+12\n",
       "MAE_d5  9.629129e+05\n",
       "R2_d5  -4.827387e+03"
      ]
     },
     "execution_count": 9,
     "metadata": {},
     "output_type": "execute_result"
    }
   ],
   "source": [
    "poly_ftr_d5 = PolynomialFeatures(degree = 5)\n",
    "\n",
    "X_train_d5 = poly_ftr_d5.fit_transform(X_train)\n",
    "X_test_d5 = poly_ftr_d5.fit_transform(x_test)\n",
    "\n",
    "poly_reg = LinearRegression()\n",
    "poly_reg.fit(X_train_d5, y_train)\n",
    "\n",
    "y_pred_d5 = poly_reg.predict(X_test_d5)\n",
    "MSE_d5 = mean_squared_error(y_test, y_pred_d5)\n",
    "MAE_d5 = mean_absolute_error(y_test, y_pred_d5)\n",
    "R2_d5 = r2_score(y_test, y_pred_d5)\n",
    "\n",
    "eval_metrics = pd.DataFrame(data=[MSE_d5 ,MAE_d5, R2_d5], columns=[\"d=5\"], index=[\"MSE_d5\",\"MAE_d5\",\"R2_d5\"])\n",
    "eval_metrics"
   ]
  },
  {
   "cell_type": "markdown",
   "id": "d3ff4548",
   "metadata": {},
   "source": [
    "## 6). Comparing Predictive values with target values"
   ]
  },
  {
   "cell_type": "code",
   "execution_count": 10,
   "id": "beab8ea4",
   "metadata": {},
   "outputs": [
    {
     "data": {
      "image/png": "[encoded data removed]",
      "text/plain": [
       "<Figure size 1296x504 with 1 Axes>"
      ]
     },
     "metadata": {
      "needs_background": "light"
     },
     "output_type": "display_data"
    }
   ],
   "source": [
    "plt.rcParams['figure.figsize'] = (18, 7)\n",
    "S=np.arange(len(predictions))\n",
    "plt.bar(S, y_test, 0.3, color=\"red\")\n",
    "plt.bar(S+0.3,predictions,0.3, color=\"blue\")\n",
    "plt.title('Comparing Predictive Profit with real Profit', fontsize = 20)\n",
    "plt.xticks(S+0.2, S+1, rotation = 90 )\n",
    "plt.grid()\n",
    "plt.show()"
   ]
  }
 ],
 "metadata": {
  "kernelspec": {
   "display_name": "Python 3 (ipykernel)",
   "language": "python",
   "name": "python3"
  },
  "language_info": {
   "codemirror_mode": {
    "name": "ipython",
    "version": 3
   },
   "file_extension": ".py",
   "mimetype": "text/x-python",
   "name": "python",
   "nbconvert_exporter": "python",
   "pygments_lexer": "ipython3",
   "version": "3.8.5"
  }
 },
 "nbformat": 4,
 "nbformat_minor": 5
}
