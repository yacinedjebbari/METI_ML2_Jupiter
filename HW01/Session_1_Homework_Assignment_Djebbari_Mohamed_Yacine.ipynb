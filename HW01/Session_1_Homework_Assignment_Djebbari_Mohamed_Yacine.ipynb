{
 "cells": [
  {
   "cell_type": "code",
   "execution_count": 1,
   "id": "58f0f297",
   "metadata": {},
   "outputs": [],
   "source": [
    "import numpy as np\n",
    "import matplotlib.pyplot as plt\n",
    "import cv2"
   ]
  },
  {
   "cell_type": "markdown",
   "id": "da8ec792",
   "metadata": {},
   "source": [
    "## 1.Read the dog image using cv2."
   ]
  },
  {
   "cell_type": "code",
   "execution_count": 2,
   "id": "80ef07b6",
   "metadata": {},
   "outputs": [
    {
     "name": "stdout",
     "output_type": "stream",
     "text": [
      "[[61 61 64 ... 39 39 39]\n",
      " [66 66 66 ... 39 43 39]\n",
      " [66 68 68 ... 39 43 43]\n",
      " ...\n",
      " [66 66 61 ... 46 46 43]\n",
      " [66 66 59 ... 59 43 43]\n",
      " [66 61 59 ... 68 54 46]]\n"
     ]
    }
   ],
   "source": [
    "dog=cv2.imread('chicky.png', 0)\n",
    "print(dog)"
   ]
  },
  {
   "cell_type": "markdown",
   "id": "d2157a9b",
   "metadata": {},
   "source": [
    "## 2. Convert into RGB"
   ]
  },
  {
   "cell_type": "code",
   "execution_count": 3,
   "id": "639ce26b",
   "metadata": {},
   "outputs": [
    {
     "name": "stdout",
     "output_type": "stream",
     "text": [
      "[[[ 64  62  64 127]\n",
      "  [ 64  62  64 191]\n",
      "  [ 62  62  65 191]\n",
      "  ...\n",
      "  [ 72  37  14 191]\n",
      "  [ 70  36  16 191]\n",
      "  [ 73  37  20 191]]\n",
      "\n",
      " [[ 65  65  66 191]\n",
      "  [ 65  65  67 255]\n",
      "  [ 64  66  67 255]\n",
      "  ...\n",
      "  [ 73  40  19 255]\n",
      "  [ 74  39  19 255]\n",
      "  [ 72  37  17 255]]\n",
      "\n",
      " [[ 64  65  65 191]\n",
      "  [ 66  68  68 255]\n",
      "  [ 66  68  69 255]\n",
      "  ...\n",
      "  [ 73  40  21 255]\n",
      "  [ 77  43  22 255]\n",
      "  [ 75  41  18 255]]\n",
      "\n",
      " ...\n",
      "\n",
      " [[104  68  36 191]\n",
      "  [104  69  36 255]\n",
      "  [100  63  30 255]\n",
      "  ...\n",
      "  [ 46  48  50 255]\n",
      "  [ 48  48  49 255]\n",
      "  [ 44  43  44 255]]\n",
      "\n",
      " [[104  68  32 191]\n",
      "  [103  66  33 255]\n",
      "  [ 98  59  30 255]\n",
      "  ...\n",
      "  [ 56  58  59 255]\n",
      "  [ 41  42  42 255]\n",
      "  [ 43  44  44 255]]\n",
      "\n",
      " [[104  68  29 191]\n",
      "  [ 99  63  27 255]\n",
      "  [ 97  59  29 255]\n",
      "  ...\n",
      "  [ 68  68  68 255]\n",
      "  [ 54  54  54 255]\n",
      "  [ 46  46  46 255]]]\n"
     ]
    }
   ],
   "source": [
    "dog=cv2.imread('chicky.png', -1)\n",
    "print(dog)"
   ]
  },
  {
   "cell_type": "markdown",
   "id": "6a98ad7d",
   "metadata": {},
   "source": [
    "## 3. Display Image"
   ]
  },
  {
   "cell_type": "code",
   "execution_count": 4,
   "id": "52c45c3f",
   "metadata": {},
   "outputs": [],
   "source": [
    "cv2.imshow('dog', dog)\n",
    "cv2.waitKey(0)\n",
    "cv2.destroyAllWindows()"
   ]
  },
  {
   "cell_type": "markdown",
   "id": "4007e859",
   "metadata": {},
   "source": [
    "## 4.Create histograms for the pixel intensity count of the three RGB channels"
   ]
  },
  {
   "cell_type": "code",
   "execution_count": 5,
   "id": "81ad812c",
   "metadata": {},
   "outputs": [
    {
     "data": {
      "image/png": "[encoded data removed]",
      "text/plain": [
       "<Figure size 432x288 with 1 Axes>"
      ]
     },
     "metadata": {
      "needs_background": "light"
     },
     "output_type": "display_data"
    }
   ],
   "source": [
    "dog=cv2.imread('chicky.png')\n",
    "r, g, b = cv2.split(dog)\n",
    "\n",
    "plt.hist(r.ravel(),256, [0,256])\n",
    "plt.hist(g.ravel(),256, [0,256])\n",
    "plt.hist(b.ravel(),256, [0,256])\n",
    "\n",
    "plt.title('Intensity of RGB channels')\n",
    "plt.xlabel('Intensity of Pixels')\n",
    "plt.ylabel('Count of Pixels')\n",
    "plt.show()"
   ]
  },
  {
   "cell_type": "markdown",
   "id": "af282a33",
   "metadata": {},
   "source": [
    "## 5.Display all three histograms using subplot and add the respective labels for x and y axes."
   ]
  },
  {
   "cell_type": "code",
   "execution_count": 6,
   "id": "f4428b1a",
   "metadata": {},
   "outputs": [
    {
     "data": {
      "image/png": "[encoded data removed]",
      "text/plain": [
       "<Figure size 720x288 with 3 Axes>"
      ]
     },
     "metadata": {
      "needs_background": "light"
     },
     "output_type": "display_data"
    }
   ],
   "source": [
    "fig, axes =plt.subplots(nrows =1, ncols =3, sharey =True, figsize =(10,4))\n",
    "\n",
    "axes[0].hist(r.ravel(),256, [0,256], color='Red')\n",
    "axes[1].hist(g.ravel(),256, [0,256], color='Green')\n",
    "axes[2].hist(b.ravel(),256, [0,256], color='Blue')\n",
    "\n",
    "axes[0].set_title('Intensity of Red channel')\n",
    "axes[0].set_xlabel('Intensity of Pixels')\n",
    "axes[0].set_ylabel('Count of Pixels')\n",
    "\n",
    "axes[1].set_title('Intensity of Green channel')\n",
    "axes[1].set_xlabel('Intensity of Pixels')\n",
    "axes[1].set_ylabel('Count of Pixels')\n",
    "\n",
    "axes[2].set_title('Intensity of Blue channel')\n",
    "axes[2].set_xlabel('Intensity of Pixels')\n",
    "axes[2].set_ylabel('Count of Pixels')\n",
    "\n",
    "plt.tight_layout()\n",
    "plt.show()"
   ]
  },
  {
   "cell_type": "markdown",
   "id": "e65cc586",
   "metadata": {},
   "source": [
    "## 6. Convert the image into gray scale and display it."
   ]
  },
  {
   "cell_type": "code",
   "execution_count": 7,
   "id": "9fd6af54",
   "metadata": {},
   "outputs": [
    {
     "name": "stdout",
     "output_type": "stream",
     "text": [
      "[[61 61 64 ... 39 39 39]\n",
      " [66 66 66 ... 39 43 39]\n",
      " [66 68 68 ... 39 43 43]\n",
      " ...\n",
      " [66 66 61 ... 46 46 43]\n",
      " [66 66 59 ... 59 43 43]\n",
      " [66 61 59 ... 68 54 46]]\n"
     ]
    },
    {
     "data": {
      "image/png": "[encoded data removed]",
      "text/plain": [
       "<Figure size 432x288 with 1 Axes>"
      ]
     },
     "metadata": {
      "needs_background": "light"
     },
     "output_type": "display_data"
    }
   ],
   "source": [
    "dog=cv2.imread('chicky.png', cv2.IMREAD_GRAYSCALE)\n",
    "print(dog)\n",
    "plt.hist(dog.ravel(),256, [0,256])\n",
    "plt.show()"
   ]
  }
 ],
 "metadata": {
  "kernelspec": {
   "display_name": "Python 3 (ipykernel)",
   "language": "python",
   "name": "python3"
  },
  "language_info": {
   "codemirror_mode": {
    "name": "ipython",
    "version": 3
   },
   "file_extension": ".py",
   "mimetype": "text/x-python",
   "name": "python",
   "nbconvert_exporter": "python",
   "pygments_lexer": "ipython3",
   "version": "3.8.5"
  }
 },
 "nbformat": 4,
 "nbformat_minor": 5
}
